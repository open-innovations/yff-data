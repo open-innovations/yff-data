{
 "cells": [
  {
   "cell_type": "code",
   "execution_count": 1,
   "id": "9cdae665",
   "metadata": {
    "execution": {
     "iopub.execute_input": "2025-01-16T13:49:04.912351Z",
     "iopub.status.busy": "2025-01-16T13:49:04.911677Z",
     "iopub.status.idle": "2025-01-16T13:49:05.119898Z",
     "shell.execute_reply": "2025-01-16T13:49:05.119427Z"
    },
    "papermill": {
     "duration": 0.220884,
     "end_time": "2025-01-16T13:49:05.121022",
     "exception": false,
     "start_time": "2025-01-16T13:49:04.900138",
     "status": "completed"
    },
    "tags": []
   },
   "outputs": [],
   "source": [
    "import os\n",
    "import sys\n",
    "import pandas as pd\n",
    "\n",
    "LIB_DIR = '../../'\n",
    "if LIB_DIR not in sys.path:\n",
    "    sys.path.append(LIB_DIR)"
   ]
  },
  {
   "cell_type": "code",
   "execution_count": 2,
   "id": "d4e98121",
   "metadata": {
    "execution": {
     "iopub.execute_input": "2025-01-16T13:49:05.124322Z",
     "iopub.status.busy": "2025-01-16T13:49:05.124121Z",
     "iopub.status.idle": "2025-01-16T13:49:05.126756Z",
     "shell.execute_reply": "2025-01-16T13:49:05.126434Z"
    },
    "papermill": {
     "duration": 0.005093,
     "end_time": "2025-01-16T13:49:05.127472",
     "exception": false,
     "start_time": "2025-01-16T13:49:05.122379",
     "status": "completed"
    },
    "tags": []
   },
   "outputs": [],
   "source": [
    "from scripts.util.date import quarter_to_date"
   ]
  },
  {
   "cell_type": "code",
   "execution_count": 3,
   "id": "55110f64",
   "metadata": {
    "execution": {
     "iopub.execute_input": "2025-01-16T13:49:05.130662Z",
     "iopub.status.busy": "2025-01-16T13:49:05.130430Z",
     "iopub.status.idle": "2025-01-16T13:49:05.132505Z",
     "shell.execute_reply": "2025-01-16T13:49:05.132220Z"
    },
    "papermill": {
     "duration": 0.004479,
     "end_time": "2025-01-16T13:49:05.133206",
     "exception": false,
     "start_time": "2025-01-16T13:49:05.128727",
     "status": "completed"
    },
    "tags": []
   },
   "outputs": [],
   "source": [
    "NEET_DATA = '../../working/upstream/neet.csv'\n",
    "ALL_METADATA = '../../working/upstream/metadata.csv'\n",
    "NEET_16_24 = '../../data/neet/neet.csv'\n",
    "NEET_METADATA = '../../data/neet/metadata.json'\n",
    "\n",
    "os.makedirs(os.path.dirname(NEET_16_24), exist_ok=True)"
   ]
  },
  {
   "cell_type": "code",
   "execution_count": 4,
   "id": "72150648",
   "metadata": {
    "execution": {
     "iopub.execute_input": "2025-01-16T13:49:05.136067Z",
     "iopub.status.busy": "2025-01-16T13:49:05.135853Z",
     "iopub.status.idle": "2025-01-16T13:49:05.141532Z",
     "shell.execute_reply": "2025-01-16T13:49:05.141235Z"
    },
    "papermill": {
     "duration": 0.008019,
     "end_time": "2025-01-16T13:49:05.142342",
     "exception": false,
     "start_time": "2025-01-16T13:49:05.134323",
     "status": "completed"
    },
    "tags": []
   },
   "outputs": [],
   "source": [
    "data = pd.read_csv('../../working/upstream/neet.csv')"
   ]
  },
  {
   "cell_type": "code",
   "execution_count": 5,
   "id": "67c5b6f1",
   "metadata": {
    "execution": {
     "iopub.execute_input": "2025-01-16T13:49:05.145476Z",
     "iopub.status.busy": "2025-01-16T13:49:05.145247Z",
     "iopub.status.idle": "2025-01-16T13:49:05.147237Z",
     "shell.execute_reply": "2025-01-16T13:49:05.146955Z"
    },
    "papermill": {
     "duration": 0.004354,
     "end_time": "2025-01-16T13:49:05.147932",
     "exception": false,
     "start_time": "2025-01-16T13:49:05.143578",
     "status": "completed"
    },
    "tags": []
   },
   "outputs": [],
   "source": [
    "variable_mapper = {\n",
    "    'Young people who were NEET_Total': 'age_16_to_24_neet_total_sa',\n",
    "    'Young people who were NEET_Unemployed': 'age_16_to_24_neet_unemployed_sa',\n",
    "    'Young people who were NEET_Economically inactive': 'age_16_to_24_neet_economically_inactive_sa',\n",
    "    'Total people in relevant population group': 'age_16_to_24_population',\n",
    "    'People who were NEET as a percentage of people in relevant population group': 'age_16_to_24_neet_total_rate_sa',\n",
    "}"
   ]
  },
  {
   "cell_type": "code",
   "execution_count": 6,
   "id": "d890107d",
   "metadata": {
    "execution": {
     "iopub.execute_input": "2025-01-16T13:49:05.150882Z",
     "iopub.status.busy": "2025-01-16T13:49:05.150683Z",
     "iopub.status.idle": "2025-01-16T13:49:05.153470Z",
     "shell.execute_reply": "2025-01-16T13:49:05.153157Z"
    },
    "papermill": {
     "duration": 0.005086,
     "end_time": "2025-01-16T13:49:05.154205",
     "exception": false,
     "start_time": "2025-01-16T13:49:05.149119",
     "status": "completed"
    },
    "tags": []
   },
   "outputs": [],
   "source": [
    "data = data[data.age == 'Aged 16-24']"
   ]
  },
  {
   "cell_type": "code",
   "execution_count": 7,
   "id": "883e812b",
   "metadata": {
    "execution": {
     "iopub.execute_input": "2025-01-16T13:49:05.157183Z",
     "iopub.status.busy": "2025-01-16T13:49:05.156939Z",
     "iopub.status.idle": "2025-01-16T13:49:05.159783Z",
     "shell.execute_reply": "2025-01-16T13:49:05.159472Z"
    },
    "papermill": {
     "duration": 0.005131,
     "end_time": "2025-01-16T13:49:05.160504",
     "exception": false,
     "start_time": "2025-01-16T13:49:05.155373",
     "status": "completed"
    },
    "tags": []
   },
   "outputs": [],
   "source": [
    "data = data.replace({\n",
    "  'measure': variable_mapper\n",
    "})"
   ]
  },
  {
   "cell_type": "code",
   "execution_count": 8,
   "id": "98e99981",
   "metadata": {
    "execution": {
     "iopub.execute_input": "2025-01-16T13:49:05.163476Z",
     "iopub.status.busy": "2025-01-16T13:49:05.163301Z",
     "iopub.status.idle": "2025-01-16T13:49:05.168763Z",
     "shell.execute_reply": "2025-01-16T13:49:05.168467Z"
    },
    "papermill": {
     "duration": 0.0078,
     "end_time": "2025-01-16T13:49:05.169485",
     "exception": false,
     "start_time": "2025-01-16T13:49:05.161685",
     "status": "completed"
    },
    "tags": []
   },
   "outputs": [],
   "source": [
    "data['quarter_start'] = pd.Index(data.date.pipe(quarter_to_date))\n",
    "data['variable'] = data.sheet.str.split(' - ').apply(lambda x: x[0]).str.lower() + '_' + data.measure"
   ]
  },
  {
   "cell_type": "code",
   "execution_count": 9,
   "id": "252e82fc",
   "metadata": {
    "execution": {
     "iopub.execute_input": "2025-01-16T13:49:05.172524Z",
     "iopub.status.busy": "2025-01-16T13:49:05.172363Z",
     "iopub.status.idle": "2025-01-16T13:49:05.178926Z",
     "shell.execute_reply": "2025-01-16T13:49:05.178626Z"
    },
    "papermill": {
     "duration": 0.008959,
     "end_time": "2025-01-16T13:49:05.179687",
     "exception": false,
     "start_time": "2025-01-16T13:49:05.170728",
     "status": "completed"
    },
    "tags": []
   },
   "outputs": [],
   "source": [
    "data = data.pivot_table(index='quarter_start', columns='variable', values='value')"
   ]
  },
  {
   "cell_type": "code",
   "execution_count": 10,
   "id": "a9464f36",
   "metadata": {
    "execution": {
     "iopub.execute_input": "2025-01-16T13:49:05.182802Z",
     "iopub.status.busy": "2025-01-16T13:49:05.182613Z",
     "iopub.status.idle": "2025-01-16T13:49:05.186287Z",
     "shell.execute_reply": "2025-01-16T13:49:05.186002Z"
    },
    "papermill": {
     "duration": 0.006024,
     "end_time": "2025-01-16T13:49:05.186968",
     "exception": false,
     "start_time": "2025-01-16T13:49:05.180944",
     "status": "completed"
    },
    "tags": []
   },
   "outputs": [],
   "source": [
    "def calculate_rates(data, prefix):\n",
    "    data[prefix + '_age_16_to_24_neet_unemployed_rate_sa'] = data[prefix + '_age_16_to_24_neet_unemployed_sa'] / data[prefix + '_age_16_to_24_population'] * 100\n",
    "    data[prefix + '_age_16_to_24_neet_economically_inactive_rate_sa'] = data[prefix + '_age_16_to_24_neet_economically_inactive_sa'] / data[prefix + '_age_16_to_24_population'] * 100\n",
    "    return data\n",
    "  \n",
    "data = data.pipe(\n",
    "    calculate_rates, 'people'\n",
    ").pipe(\n",
    "    calculate_rates, 'men'\n",
    ").pipe(\n",
    "    calculate_rates, 'women'\n",
    ")\n"
   ]
  },
  {
   "cell_type": "code",
   "execution_count": 11,
   "id": "d69e89bf",
   "metadata": {
    "execution": {
     "iopub.execute_input": "2025-01-16T13:49:05.190221Z",
     "iopub.status.busy": "2025-01-16T13:49:05.190029Z",
     "iopub.status.idle": "2025-01-16T13:49:05.194776Z",
     "shell.execute_reply": "2025-01-16T13:49:05.194453Z"
    },
    "papermill": {
     "duration": 0.00722,
     "end_time": "2025-01-16T13:49:05.195511",
     "exception": false,
     "start_time": "2025-01-16T13:49:05.188291",
     "status": "completed"
    },
    "tags": []
   },
   "outputs": [],
   "source": [
    "column_order = [\n",
    "  'people_age_16_to_24_neet_total_sa',\n",
    "  'people_age_16_to_24_neet_unemployed_sa',\n",
    "  'people_age_16_to_24_neet_economically_inactive_sa',\n",
    "  'people_age_16_to_24_population',\n",
    "  'people_age_16_to_24_neet_total_rate_sa',\n",
    "  'people_age_16_to_24_neet_unemployed_rate_sa',\n",
    "  'people_age_16_to_24_neet_economically_inactive_rate_sa',\n",
    "  'men_age_16_to_24_neet_total_sa',\n",
    "  'men_age_16_to_24_neet_unemployed_sa',\n",
    "  'men_age_16_to_24_neet_economically_inactive_sa',\n",
    "  'men_age_16_to_24_population',\n",
    "  'men_age_16_to_24_neet_total_rate_sa',\n",
    "  'men_age_16_to_24_neet_unemployed_rate_sa',\n",
    "  'men_age_16_to_24_neet_economically_inactive_rate_sa',\n",
    "  'women_age_16_to_24_neet_total_sa',\n",
    "  'women_age_16_to_24_neet_unemployed_sa',\n",
    "  'women_age_16_to_24_neet_economically_inactive_sa',\n",
    "  'women_age_16_to_24_population',\n",
    "  'women_age_16_to_24_neet_total_rate_sa',\n",
    "  'women_age_16_to_24_neet_unemployed_rate_sa',\n",
    "  'women_age_16_to_24_neet_economically_inactive_rate_sa'\n",
    "]\n",
    "\n",
    "data.loc[:, column_order].to_csv(NEET_16_24)"
   ]
  },
  {
   "cell_type": "code",
   "execution_count": 12,
   "id": "24f73d63",
   "metadata": {
    "execution": {
     "iopub.execute_input": "2025-01-16T13:49:05.198693Z",
     "iopub.status.busy": "2025-01-16T13:49:05.198495Z",
     "iopub.status.idle": "2025-01-16T13:49:05.205932Z",
     "shell.execute_reply": "2025-01-16T13:49:05.205651Z"
    },
    "papermill": {
     "duration": 0.009886,
     "end_time": "2025-01-16T13:49:05.206676",
     "exception": false,
     "start_time": "2025-01-16T13:49:05.196790",
     "status": "completed"
    },
    "tags": []
   },
   "outputs": [
    {
     "data": {
      "text/plain": [
       "id                     object\n",
       "last_update    datetime64[ns]\n",
       "next_update            object\n",
       "dtype: object"
      ]
     },
     "execution_count": 12,
     "metadata": {},
     "output_type": "execute_result"
    }
   ],
   "source": [
    "metadata = pd.read_csv(ALL_METADATA, parse_dates=['last_update', 'next_update'])\n",
    "metadata.set_index(\n",
    "    'id'\n",
    ").rename(\n",
    "    columns={\n",
    "        'last_update': 'published'\n",
    "    }\n",
    ").loc['NEET'].to_json(NEET_METADATA, date_format='iso')\n",
    "\n",
    "metadata.dtypes\n"
   ]
  },
  {
   "cell_type": "code",
   "execution_count": null,
   "id": "900264ba",
   "metadata": {
    "papermill": {
     "duration": 0.001329,
     "end_time": "2025-01-16T13:49:05.209399",
     "exception": false,
     "start_time": "2025-01-16T13:49:05.208070",
     "status": "completed"
    },
    "tags": []
   },
   "outputs": [],
   "source": []
  },
  {
   "cell_type": "code",
   "execution_count": null,
   "id": "9f9cea20",
   "metadata": {
    "papermill": {
     "duration": 0.001254,
     "end_time": "2025-01-16T13:49:05.211919",
     "exception": false,
     "start_time": "2025-01-16T13:49:05.210665",
     "status": "completed"
    },
    "tags": []
   },
   "outputs": [],
   "source": []
  }
 ],
 "metadata": {
  "kernelspec": {
   "display_name": "yff-data-ansOWYcy",
   "language": "python",
   "name": "python3"
  },
  "language_info": {
   "codemirror_mode": {
    "name": "ipython",
    "version": 3
   },
   "file_extension": ".py",
   "mimetype": "text/x-python",
   "name": "python",
   "nbconvert_exporter": "python",
   "pygments_lexer": "ipython3",
   "version": "3.10.12"
  },
  "papermill": {
   "default_parameters": {},
   "duration": 1.217131,
   "end_time": "2025-01-16T13:49:05.430130",
   "environment_variables": {},
   "exception": null,
   "input_path": "transform.ipynb",
   "output_path": "../../working/output/neet-transform.ipynb",
   "parameters": {},
   "start_time": "2025-01-16T13:49:04.212999",
   "version": "2.5.0"
  }
 },
 "nbformat": 4,
 "nbformat_minor": 5
}