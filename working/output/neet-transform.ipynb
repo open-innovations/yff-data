{
 "cells": [
  {
   "cell_type": "code",
   "execution_count": 1,
   "id": "4ff8bd60",
   "metadata": {
    "execution": {
     "iopub.execute_input": "2025-01-21T08:55:20.092941Z",
     "iopub.status.busy": "2025-01-21T08:55:20.092624Z",
     "iopub.status.idle": "2025-01-21T08:55:20.399068Z",
     "shell.execute_reply": "2025-01-21T08:55:20.398503Z"
    },
    "papermill": {
     "duration": 0.311958,
     "end_time": "2025-01-21T08:55:20.400717",
     "exception": false,
     "start_time": "2025-01-21T08:55:20.088759",
     "status": "completed"
    },
    "tags": []
   },
   "outputs": [],
   "source": [
    "import os\n",
    "import sys\n",
    "import pandas as pd\n",
    "\n",
    "LIB_DIR = '../../'\n",
    "if LIB_DIR not in sys.path:\n",
    "    sys.path.append(LIB_DIR)"
   ]
  },
  {
   "cell_type": "code",
   "execution_count": 2,
   "id": "c60b7a20",
   "metadata": {
    "execution": {
     "iopub.execute_input": "2025-01-21T08:55:20.405920Z",
     "iopub.status.busy": "2025-01-21T08:55:20.405657Z",
     "iopub.status.idle": "2025-01-21T08:55:20.410172Z",
     "shell.execute_reply": "2025-01-21T08:55:20.409553Z"
    },
    "papermill": {
     "duration": 0.008564,
     "end_time": "2025-01-21T08:55:20.411554",
     "exception": false,
     "start_time": "2025-01-21T08:55:20.402990",
     "status": "completed"
    },
    "tags": []
   },
   "outputs": [],
   "source": [
    "from scripts.util.date import quarter_to_date"
   ]
  },
  {
   "cell_type": "code",
   "execution_count": 3,
   "id": "26104158",
   "metadata": {
    "execution": {
     "iopub.execute_input": "2025-01-21T08:55:20.416532Z",
     "iopub.status.busy": "2025-01-21T08:55:20.416047Z",
     "iopub.status.idle": "2025-01-21T08:55:20.419424Z",
     "shell.execute_reply": "2025-01-21T08:55:20.418873Z"
    },
    "papermill": {
     "duration": 0.007289,
     "end_time": "2025-01-21T08:55:20.420752",
     "exception": false,
     "start_time": "2025-01-21T08:55:20.413463",
     "status": "completed"
    },
    "tags": []
   },
   "outputs": [],
   "source": [
    "NEET_DATA = '../../working/upstream/neet.csv'\n",
    "ALL_METADATA = '../../working/upstream/metadata.csv'\n",
    "NEET_16_24 = '../../data/neet/neet.csv'\n",
    "NEET_METADATA = '../../data/neet/metadata.json'\n",
    "\n",
    "os.makedirs(os.path.dirname(NEET_16_24), exist_ok=True)"
   ]
  },
  {
   "cell_type": "code",
   "execution_count": 4,
   "id": "95fa08a2",
   "metadata": {
    "execution": {
     "iopub.execute_input": "2025-01-21T08:55:20.425838Z",
     "iopub.status.busy": "2025-01-21T08:55:20.425330Z",
     "iopub.status.idle": "2025-01-21T08:55:20.434574Z",
     "shell.execute_reply": "2025-01-21T08:55:20.433912Z"
    },
    "papermill": {
     "duration": 0.013177,
     "end_time": "2025-01-21T08:55:20.435895",
     "exception": false,
     "start_time": "2025-01-21T08:55:20.422718",
     "status": "completed"
    },
    "tags": []
   },
   "outputs": [],
   "source": [
    "data = pd.read_csv('../../working/upstream/neet.csv')"
   ]
  },
  {
   "cell_type": "code",
   "execution_count": 5,
   "id": "f3437271",
   "metadata": {
    "execution": {
     "iopub.execute_input": "2025-01-21T08:55:20.441079Z",
     "iopub.status.busy": "2025-01-21T08:55:20.440700Z",
     "iopub.status.idle": "2025-01-21T08:55:20.443925Z",
     "shell.execute_reply": "2025-01-21T08:55:20.443322Z"
    },
    "papermill": {
     "duration": 0.007288,
     "end_time": "2025-01-21T08:55:20.445277",
     "exception": false,
     "start_time": "2025-01-21T08:55:20.437989",
     "status": "completed"
    },
    "tags": []
   },
   "outputs": [],
   "source": [
    "variable_mapper = {\n",
    "    'Young people who were NEET_Total': 'age_16_to_24_neet_total_sa',\n",
    "    'Young people who were NEET_Unemployed': 'age_16_to_24_neet_unemployed_sa',\n",
    "    'Young people who were NEET_Economically inactive': 'age_16_to_24_neet_economically_inactive_sa',\n",
    "    'Total people in relevant population group': 'age_16_to_24_population',\n",
    "    'People who were NEET as a percentage of people in relevant population group': 'age_16_to_24_neet_total_rate_sa',\n",
    "}"
   ]
  },
  {
   "cell_type": "code",
   "execution_count": 6,
   "id": "b51985e1",
   "metadata": {
    "execution": {
     "iopub.execute_input": "2025-01-21T08:55:20.450429Z",
     "iopub.status.busy": "2025-01-21T08:55:20.449999Z",
     "iopub.status.idle": "2025-01-21T08:55:20.454117Z",
     "shell.execute_reply": "2025-01-21T08:55:20.453551Z"
    },
    "papermill": {
     "duration": 0.008175,
     "end_time": "2025-01-21T08:55:20.455452",
     "exception": false,
     "start_time": "2025-01-21T08:55:20.447277",
     "status": "completed"
    },
    "tags": []
   },
   "outputs": [],
   "source": [
    "data = data[data.age == 'Aged 16-24']"
   ]
  },
  {
   "cell_type": "code",
   "execution_count": 7,
   "id": "168bb702",
   "metadata": {
    "execution": {
     "iopub.execute_input": "2025-01-21T08:55:20.460703Z",
     "iopub.status.busy": "2025-01-21T08:55:20.460254Z",
     "iopub.status.idle": "2025-01-21T08:55:20.464711Z",
     "shell.execute_reply": "2025-01-21T08:55:20.464150Z"
    },
    "papermill": {
     "duration": 0.008469,
     "end_time": "2025-01-21T08:55:20.465984",
     "exception": false,
     "start_time": "2025-01-21T08:55:20.457515",
     "status": "completed"
    },
    "tags": []
   },
   "outputs": [],
   "source": [
    "data = data.replace({\n",
    "  'measure': variable_mapper\n",
    "})"
   ]
  },
  {
   "cell_type": "code",
   "execution_count": 8,
   "id": "0db4cbf6",
   "metadata": {
    "execution": {
     "iopub.execute_input": "2025-01-21T08:55:20.471216Z",
     "iopub.status.busy": "2025-01-21T08:55:20.470754Z",
     "iopub.status.idle": "2025-01-21T08:55:20.480319Z",
     "shell.execute_reply": "2025-01-21T08:55:20.479784Z"
    },
    "papermill": {
     "duration": 0.013603,
     "end_time": "2025-01-21T08:55:20.481649",
     "exception": false,
     "start_time": "2025-01-21T08:55:20.468046",
     "status": "completed"
    },
    "tags": []
   },
   "outputs": [],
   "source": [
    "data['quarter_start'] = pd.Index(data.date.pipe(quarter_to_date))\n",
    "data['variable'] = data.sheet.str.split(' - ').apply(lambda x: x[0]).str.lower() + '_' + data.measure"
   ]
  },
  {
   "cell_type": "code",
   "execution_count": 9,
   "id": "30647baf",
   "metadata": {
    "execution": {
     "iopub.execute_input": "2025-01-21T08:55:20.487016Z",
     "iopub.status.busy": "2025-01-21T08:55:20.486624Z",
     "iopub.status.idle": "2025-01-21T08:55:20.495054Z",
     "shell.execute_reply": "2025-01-21T08:55:20.494525Z"
    },
    "papermill": {
     "duration": 0.012473,
     "end_time": "2025-01-21T08:55:20.496318",
     "exception": false,
     "start_time": "2025-01-21T08:55:20.483845",
     "status": "completed"
    },
    "tags": []
   },
   "outputs": [],
   "source": [
    "data = data.pivot_table(index='quarter_start', columns='variable', values='value')"
   ]
  },
  {
   "cell_type": "code",
   "execution_count": 10,
   "id": "2466d56c",
   "metadata": {
    "execution": {
     "iopub.execute_input": "2025-01-21T08:55:20.501847Z",
     "iopub.status.busy": "2025-01-21T08:55:20.501447Z",
     "iopub.status.idle": "2025-01-21T08:55:20.507838Z",
     "shell.execute_reply": "2025-01-21T08:55:20.507211Z"
    },
    "papermill": {
     "duration": 0.010639,
     "end_time": "2025-01-21T08:55:20.509165",
     "exception": false,
     "start_time": "2025-01-21T08:55:20.498526",
     "status": "completed"
    },
    "tags": []
   },
   "outputs": [],
   "source": [
    "def calculate_rates(data, prefix):\n",
    "    data[prefix + '_age_16_to_24_neet_unemployed_rate_sa'] = data[prefix + '_age_16_to_24_neet_unemployed_sa'] / data[prefix + '_age_16_to_24_population'] * 100\n",
    "    data[prefix + '_age_16_to_24_neet_economically_inactive_rate_sa'] = data[prefix + '_age_16_to_24_neet_economically_inactive_sa'] / data[prefix + '_age_16_to_24_population'] * 100\n",
    "    return data\n",
    "  \n",
    "data = data.pipe(\n",
    "    calculate_rates, 'people'\n",
    ").pipe(\n",
    "    calculate_rates, 'men'\n",
    ").pipe(\n",
    "    calculate_rates, 'women'\n",
    ")\n"
   ]
  },
  {
   "cell_type": "code",
   "execution_count": 11,
   "id": "11330aef",
   "metadata": {
    "execution": {
     "iopub.execute_input": "2025-01-21T08:55:20.514829Z",
     "iopub.status.busy": "2025-01-21T08:55:20.514446Z",
     "iopub.status.idle": "2025-01-21T08:55:20.521719Z",
     "shell.execute_reply": "2025-01-21T08:55:20.521179Z"
    },
    "papermill": {
     "duration": 0.011623,
     "end_time": "2025-01-21T08:55:20.523061",
     "exception": false,
     "start_time": "2025-01-21T08:55:20.511438",
     "status": "completed"
    },
    "tags": []
   },
   "outputs": [],
   "source": [
    "column_order = [\n",
    "  'people_age_16_to_24_neet_total_sa',\n",
    "  'people_age_16_to_24_neet_unemployed_sa',\n",
    "  'people_age_16_to_24_neet_economically_inactive_sa',\n",
    "  'people_age_16_to_24_population',\n",
    "  'people_age_16_to_24_neet_total_rate_sa',\n",
    "  'people_age_16_to_24_neet_unemployed_rate_sa',\n",
    "  'people_age_16_to_24_neet_economically_inactive_rate_sa',\n",
    "  'men_age_16_to_24_neet_total_sa',\n",
    "  'men_age_16_to_24_neet_unemployed_sa',\n",
    "  'men_age_16_to_24_neet_economically_inactive_sa',\n",
    "  'men_age_16_to_24_population',\n",
    "  'men_age_16_to_24_neet_total_rate_sa',\n",
    "  'men_age_16_to_24_neet_unemployed_rate_sa',\n",
    "  'men_age_16_to_24_neet_economically_inactive_rate_sa',\n",
    "  'women_age_16_to_24_neet_total_sa',\n",
    "  'women_age_16_to_24_neet_unemployed_sa',\n",
    "  'women_age_16_to_24_neet_economically_inactive_sa',\n",
    "  'women_age_16_to_24_population',\n",
    "  'women_age_16_to_24_neet_total_rate_sa',\n",
    "  'women_age_16_to_24_neet_unemployed_rate_sa',\n",
    "  'women_age_16_to_24_neet_economically_inactive_rate_sa'\n",
    "]\n",
    "\n",
    "data.loc[:, column_order].to_csv(NEET_16_24)"
   ]
  },
  {
   "cell_type": "code",
   "execution_count": 12,
   "id": "341b1ea3",
   "metadata": {
    "execution": {
     "iopub.execute_input": "2025-01-21T08:55:20.528249Z",
     "iopub.status.busy": "2025-01-21T08:55:20.528063Z",
     "iopub.status.idle": "2025-01-21T08:55:20.540541Z",
     "shell.execute_reply": "2025-01-21T08:55:20.539887Z"
    },
    "papermill": {
     "duration": 0.016664,
     "end_time": "2025-01-21T08:55:20.541904",
     "exception": false,
     "start_time": "2025-01-21T08:55:20.525240",
     "status": "completed"
    },
    "tags": []
   },
   "outputs": [
    {
     "data": {
      "text/plain": [
       "id                     object\n",
       "last_update    datetime64[ns]\n",
       "next_update            object\n",
       "dtype: object"
      ]
     },
     "execution_count": 12,
     "metadata": {},
     "output_type": "execute_result"
    }
   ],
   "source": [
    "metadata = pd.read_csv(ALL_METADATA, parse_dates=['last_update', 'next_update'])\n",
    "metadata.set_index(\n",
    "    'id'\n",
    ").rename(\n",
    "    columns={\n",
    "        'last_update': 'published'\n",
    "    }\n",
    ").loc['NEET'].to_json(NEET_METADATA, date_format='iso')\n",
    "\n",
    "metadata.dtypes\n"
   ]
  },
  {
   "cell_type": "code",
   "execution_count": null,
   "id": "48a09844",
   "metadata": {
    "papermill": {
     "duration": 0.002315,
     "end_time": "2025-01-21T08:55:20.546584",
     "exception": false,
     "start_time": "2025-01-21T08:55:20.544269",
     "status": "completed"
    },
    "tags": []
   },
   "outputs": [],
   "source": []
  },
  {
   "cell_type": "code",
   "execution_count": null,
   "id": "fb0d57d5",
   "metadata": {
    "papermill": {
     "duration": 0.00222,
     "end_time": "2025-01-21T08:55:20.551082",
     "exception": false,
     "start_time": "2025-01-21T08:55:20.548862",
     "status": "completed"
    },
    "tags": []
   },
   "outputs": [],
   "source": []
  }
 ],
 "metadata": {
  "kernelspec": {
   "display_name": "yff-data-ansOWYcy",
   "language": "python",
   "name": "python3"
  },
  "language_info": {
   "codemirror_mode": {
    "name": "ipython",
    "version": 3
   },
   "file_extension": ".py",
   "mimetype": "text/x-python",
   "name": "python",
   "nbconvert_exporter": "python",
   "pygments_lexer": "ipython3",
   "version": "3.10.16"
  },
  "papermill": {
   "default_parameters": {},
   "duration": 1.874256,
   "end_time": "2025-01-21T08:55:20.770298",
   "environment_variables": {},
   "exception": null,
   "input_path": "transform.ipynb",
   "output_path": "../../working/output/neet-transform.ipynb",
   "parameters": {},
   "start_time": "2025-01-21T08:55:18.896042",
   "version": "2.5.0"
  }
 },
 "nbformat": 4,
 "nbformat_minor": 5
}