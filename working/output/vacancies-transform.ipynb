{
 "cells": [
  {
   "cell_type": "code",
   "execution_count": 1,
   "id": "34b8fd1c",
   "metadata": {
    "execution": {
     "iopub.execute_input": "2025-01-16T13:49:06.488033Z",
     "iopub.status.busy": "2025-01-16T13:49:06.486482Z",
     "iopub.status.idle": "2025-01-16T13:49:06.694291Z",
     "shell.execute_reply": "2025-01-16T13:49:06.693869Z"
    },
    "papermill": {
     "duration": 0.214529,
     "end_time": "2025-01-16T13:49:06.695369",
     "exception": false,
     "start_time": "2025-01-16T13:49:06.480840",
     "status": "completed"
    },
    "tags": []
   },
   "outputs": [],
   "source": [
    "import pandas as pd"
   ]
  },
  {
   "cell_type": "markdown",
   "id": "0b342163",
   "metadata": {
    "papermill": {
     "duration": 0.000692,
     "end_time": "2025-01-16T13:49:06.696904",
     "exception": false,
     "start_time": "2025-01-16T13:49:06.696212",
     "status": "completed"
    },
    "tags": []
   },
   "source": [
    "Duplicating VACS02"
   ]
  },
  {
   "cell_type": "code",
   "execution_count": 2,
   "id": "228bdf87",
   "metadata": {
    "execution": {
     "iopub.execute_input": "2025-01-16T13:49:06.698846Z",
     "iopub.status.busy": "2025-01-16T13:49:06.698657Z",
     "iopub.status.idle": "2025-01-16T13:49:06.701082Z",
     "shell.execute_reply": "2025-01-16T13:49:06.700817Z"
    },
    "papermill": {
     "duration": 0.004233,
     "end_time": "2025-01-16T13:49:06.701773",
     "exception": false,
     "start_time": "2025-01-16T13:49:06.697540",
     "status": "completed"
    },
    "tags": []
   },
   "outputs": [],
   "source": [
    "levels = [\n",
    "    'AP2Y', 'JP9H', 'JP9I', 'JP9J', 'JP9K', 'JP9L', 'JP9M', 'JP9N', 'JP9O', 'JP9P', 'JP9Q', 'JP9R', 'JP9S', 'JP9T', 'JP9U', 'JP9V', 'JP9W', 'JP9X', 'JP9Y', 'JP9Z'\n",
    "]\n",
    "ratios = [\n",
    "    'AP2Z', 'JPA2', 'JPA3', 'JPA4', 'JPA5', 'JPA6', 'JPA7', 'JPA8', 'JPA9', 'JPB2', 'JPB3', 'JPB4', 'JPB5', 'JPB6', 'JPB7', 'JPB8', 'JPB9', 'JPC2', 'JPC3', 'JPC4'\n",
    "]"
   ]
  },
  {
   "cell_type": "code",
   "execution_count": 3,
   "id": "4d83eddc",
   "metadata": {
    "execution": {
     "iopub.execute_input": "2025-01-16T13:49:06.703638Z",
     "iopub.status.busy": "2025-01-16T13:49:06.703532Z",
     "iopub.status.idle": "2025-01-16T13:49:06.748653Z",
     "shell.execute_reply": "2025-01-16T13:49:06.748293Z"
    },
    "papermill": {
     "duration": 0.047194,
     "end_time": "2025-01-16T13:49:06.749663",
     "exception": false,
     "start_time": "2025-01-16T13:49:06.702469",
     "status": "completed"
    },
    "tags": []
   },
   "outputs": [],
   "source": [
    "data = pd.read_csv('../../working/upstream/unem.csv')\n",
    "codes = pd.read_csv('../../working/upstream/unem-codes.csv', index_col=['CDID'], parse_dates=['Release Date', 'Next release'])\n",
    "data = data.loc[data.variable.isin(levels + ratios)]\n",
    "data = data.merge(codes, left_on='variable', right_index=True)"
   ]
  },
  {
   "cell_type": "code",
   "execution_count": 4,
   "id": "32715483",
   "metadata": {
    "execution": {
     "iopub.execute_input": "2025-01-16T13:49:06.916001Z",
     "iopub.status.busy": "2025-01-16T13:49:06.915290Z",
     "iopub.status.idle": "2025-01-16T13:49:06.924205Z",
     "shell.execute_reply": "2025-01-16T13:49:06.923229Z"
    },
    "papermill": {
     "duration": 0.101815,
     "end_time": "2025-01-16T13:49:06.926854",
     "exception": false,
     "start_time": "2025-01-16T13:49:06.825039",
     "status": "completed"
    },
    "tags": []
   },
   "outputs": [],
   "source": [
    "vacancies_by_date = data.loc[\n",
    "    data.variable=='AP2Y',\n",
    "    ['variable', 'value', 'date', 'freq']\n",
    "].rename(\n",
    "    columns={'variable': 'code'}\n",
    ")\n",
    "\n",
    "vacancies_by_date.to_csv('../../data/vacancies/vacancies_by_date.csv', index=False)"
   ]
  },
  {
   "cell_type": "code",
   "execution_count": null,
   "id": "c4e4c03d",
   "metadata": {
    "papermill": {
     "duration": 0.003478,
     "end_time": "2025-01-16T13:49:06.933368",
     "exception": false,
     "start_time": "2025-01-16T13:49:06.929890",
     "status": "completed"
    },
    "tags": []
   },
   "outputs": [],
   "source": []
  }
 ],
 "metadata": {
  "kernelspec": {
   "display_name": "yff-data-ansOWYcy",
   "language": "python",
   "name": "python3"
  },
  "language_info": {
   "codemirror_mode": {
    "name": "ipython",
    "version": 3
   },
   "file_extension": ".py",
   "mimetype": "text/x-python",
   "name": "python",
   "nbconvert_exporter": "python",
   "pygments_lexer": "ipython3",
   "version": "3.10.12"
  },
  "papermill": {
   "default_parameters": {},
   "duration": 1.353766,
   "end_time": "2025-01-16T13:49:07.156861",
   "environment_variables": {},
   "exception": null,
   "input_path": "transform.ipynb",
   "output_path": "../../working/output/vacancies-transform.ipynb",
   "parameters": {},
   "start_time": "2025-01-16T13:49:05.803095",
   "version": "2.5.0"
  }
 },
 "nbformat": 4,
 "nbformat_minor": 5
}