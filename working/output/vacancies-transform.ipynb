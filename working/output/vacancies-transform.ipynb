{
 "cells": [
  {
   "cell_type": "code",
   "execution_count": 1,
   "id": "072c42ea",
   "metadata": {
    "execution": {
     "iopub.execute_input": "2025-01-21T08:55:26.549321Z",
     "iopub.status.busy": "2025-01-21T08:55:26.548979Z",
     "iopub.status.idle": "2025-01-21T08:55:26.859490Z",
     "shell.execute_reply": "2025-01-21T08:55:26.858871Z"
    },
    "papermill": {
     "duration": 0.315259,
     "end_time": "2025-01-21T08:55:26.861204",
     "exception": false,
     "start_time": "2025-01-21T08:55:26.545945",
     "status": "completed"
    },
    "tags": []
   },
   "outputs": [],
   "source": [
    "import pandas as pd"
   ]
  },
  {
   "cell_type": "markdown",
   "id": "bba42726",
   "metadata": {
    "papermill": {
     "duration": 0.001124,
     "end_time": "2025-01-21T08:55:26.863784",
     "exception": false,
     "start_time": "2025-01-21T08:55:26.862660",
     "status": "completed"
    },
    "tags": []
   },
   "source": [
    "Duplicating VACS02"
   ]
  },
  {
   "cell_type": "code",
   "execution_count": 2,
   "id": "18d80e34",
   "metadata": {
    "execution": {
     "iopub.execute_input": "2025-01-21T08:55:26.867442Z",
     "iopub.status.busy": "2025-01-21T08:55:26.866913Z",
     "iopub.status.idle": "2025-01-21T08:55:26.870923Z",
     "shell.execute_reply": "2025-01-21T08:55:26.870301Z"
    },
    "papermill": {
     "duration": 0.007306,
     "end_time": "2025-01-21T08:55:26.872213",
     "exception": false,
     "start_time": "2025-01-21T08:55:26.864907",
     "status": "completed"
    },
    "tags": []
   },
   "outputs": [],
   "source": [
    "levels = [\n",
    "    'AP2Y', 'JP9H', 'JP9I', 'JP9J', 'JP9K', 'JP9L', 'JP9M', 'JP9N', 'JP9O', 'JP9P', 'JP9Q', 'JP9R', 'JP9S', 'JP9T', 'JP9U', 'JP9V', 'JP9W', 'JP9X', 'JP9Y', 'JP9Z'\n",
    "]\n",
    "ratios = [\n",
    "    'AP2Z', 'JPA2', 'JPA3', 'JPA4', 'JPA5', 'JPA6', 'JPA7', 'JPA8', 'JPA9', 'JPB2', 'JPB3', 'JPB4', 'JPB5', 'JPB6', 'JPB7', 'JPB8', 'JPB9', 'JPC2', 'JPC3', 'JPC4'\n",
    "]"
   ]
  },
  {
   "cell_type": "code",
   "execution_count": 3,
   "id": "04df4706",
   "metadata": {
    "execution": {
     "iopub.execute_input": "2025-01-21T08:55:26.875759Z",
     "iopub.status.busy": "2025-01-21T08:55:26.875532Z",
     "iopub.status.idle": "2025-01-21T08:55:26.936230Z",
     "shell.execute_reply": "2025-01-21T08:55:26.935519Z"
    },
    "papermill": {
     "duration": 0.064523,
     "end_time": "2025-01-21T08:55:26.938066",
     "exception": false,
     "start_time": "2025-01-21T08:55:26.873543",
     "status": "completed"
    },
    "tags": []
   },
   "outputs": [],
   "source": [
    "data = pd.read_csv('../../working/upstream/unem.csv')\n",
    "codes = pd.read_csv('../../working/upstream/unem-codes.csv', index_col=['CDID'], parse_dates=['Release Date', 'Next release'])\n",
    "data = data.loc[data.variable.isin(levels + ratios)]\n",
    "data = data.merge(codes, left_on='variable', right_index=True)"
   ]
  },
  {
   "cell_type": "code",
   "execution_count": 4,
   "id": "6abfb736",
   "metadata": {
    "execution": {
     "iopub.execute_input": "2025-01-21T08:55:26.942441Z",
     "iopub.status.busy": "2025-01-21T08:55:26.941847Z",
     "iopub.status.idle": "2025-01-21T08:55:26.949931Z",
     "shell.execute_reply": "2025-01-21T08:55:26.949233Z"
    },
    "papermill": {
     "duration": 0.011912,
     "end_time": "2025-01-21T08:55:26.951441",
     "exception": false,
     "start_time": "2025-01-21T08:55:26.939529",
     "status": "completed"
    },
    "tags": []
   },
   "outputs": [],
   "source": [
    "vacancies_by_date = data.loc[\n",
    "    data.variable=='AP2Y',\n",
    "    ['variable', 'value', 'date', 'freq']\n",
    "].rename(\n",
    "    columns={'variable': 'code'}\n",
    ")\n",
    "\n",
    "vacancies_by_date.to_csv('../../data/vacancies/vacancies_by_date.csv', index=False)"
   ]
  },
  {
   "cell_type": "code",
   "execution_count": null,
   "id": "5c28f7f3",
   "metadata": {
    "papermill": {
     "duration": 0.001268,
     "end_time": "2025-01-21T08:55:26.954104",
     "exception": false,
     "start_time": "2025-01-21T08:55:26.952836",
     "status": "completed"
    },
    "tags": []
   },
   "outputs": [],
   "source": []
  }
 ],
 "metadata": {
  "kernelspec": {
   "display_name": "yff-data-ansOWYcy",
   "language": "python",
   "name": "python3"
  },
  "language_info": {
   "codemirror_mode": {
    "name": "ipython",
    "version": 3
   },
   "file_extension": ".py",
   "mimetype": "text/x-python",
   "name": "python",
   "nbconvert_exporter": "python",
   "pygments_lexer": "ipython3",
   "version": "3.10.16"
  },
  "papermill": {
   "default_parameters": {},
   "duration": 1.80511,
   "end_time": "2025-01-21T08:55:27.172818",
   "environment_variables": {},
   "exception": null,
   "input_path": "transform.ipynb",
   "output_path": "../../working/output/vacancies-transform.ipynb",
   "parameters": {},
   "start_time": "2025-01-21T08:55:25.367708",
   "version": "2.5.0"
  }
 },
 "nbformat": 4,
 "nbformat_minor": 5
}